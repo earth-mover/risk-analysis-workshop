{
 "cells": [
  {
   "cell_type": "code",
   "execution_count": null,
   "id": "MJUe",
   "metadata": {},
   "outputs": [],
   "source": [
    "# marimo notebook\n",
    "import marimo as mo\n",
    "\n",
    "# Core Earthmover stack\n",
    "import arraylake as al\n",
    "import icechunk as ic\n",
    "import xarray as xr\n",
    "\n",
    "# Climate indices\n",
    "import metpy\n",
    "import xclim\n",
    "\n",
    "# Physical units support\n",
    "import pint\n",
    "import pint_xarray\n",
    "from metpy.units import units\n",
    "\n",
    "# Maps\n",
    "import matplotlib.pyplot as plt\n",
    "import cartopy.crs as ccrs\n",
    "import cartopy.feature as cfeature\n",
    "\n",
    "# Speeds up groupby / coarsen\n",
    "import flox"
   ]
  },
  {
   "cell_type": "markdown",
   "id": "Hbol",
   "metadata": {
    "marimo": {
     "config": {
      "hide_code": true
     }
    }
   },
   "source": [
    "# Climate risk indicators from ERA5\n",
    "\n",
    "We will access the copy of ERA5 surface data on Arraylake, then calculate some climate risk indicators. To do this we will run basic Xarray queries that are accelerated by Icechunk, experiencing the speed of the Earthmover platform firsthand."
   ]
  },
  {
   "cell_type": "markdown",
   "id": "vblA",
   "metadata": {
    "marimo": {
     "config": {
      "hide_code": true
     }
    }
   },
   "source": [
    "## Connect to Arraylake\n",
    "\n",
    "Now let's login to arraylake. We can [login to the web app](https://app.earthmover.io/earthmover-public/era5-surface-aws), or log in from the notebook programatically via the client."
   ]
  },
  {
   "cell_type": "code",
   "execution_count": null,
   "id": "bkHC",
   "metadata": {},
   "outputs": [],
   "source": [
    "client = al.Client()\n",
    "client.login()"
   ]
  },
  {
   "cell_type": "markdown",
   "id": "lEQa",
   "metadata": {
    "marimo": {
     "config": {
      "hide_code": true
     }
    }
   },
   "source": [
    "## ERA5 in Icechunk\n",
    "\n",
    "The `earthmover-public` org in arraylake contains some example public datasets. Let's take a look at the ECMWF Reanalysis v5 dataset, more commonly known as ERA5. We can [view the ERA5 repo in the arraylake web app](https://app.earthmover.io/earthmover-public/era5-surface-aws)."
   ]
  },
  {
   "cell_type": "markdown",
   "id": "PKri",
   "metadata": {
    "marimo": {
     "config": {
      "hide_code": true
     }
    }
   },
   "source": [
    "We can alternatively use the client to see information about the repo, such as which bucket the data resides in."
   ]
  },
  {
   "cell_type": "code",
   "execution_count": null,
   "id": "Xref",
   "metadata": {},
   "outputs": [],
   "source": [
    "client.get_repo_object(\"earthmover-public/era5-surface-aws\")"
   ]
  },
  {
   "cell_type": "markdown",
   "id": "SFPL",
   "metadata": {
    "marimo": {
     "config": {
      "hide_code": true
     }
    }
   },
   "source": [
    "Whilst the web app shows us various metadata about the contents of the repo, to actually access data we need to use the client to open the underlying Icechunk repository:"
   ]
  },
  {
   "cell_type": "code",
   "execution_count": null,
   "id": "BYtC",
   "metadata": {},
   "outputs": [],
   "source": [
    "ic_repo = client.get_repo(\"earthmover-public/era5-surface-aws\")"
   ]
  },
  {
   "cell_type": "markdown",
   "id": "RGSE",
   "metadata": {
    "marimo": {
     "config": {
      "hide_code": true
     }
    }
   },
   "source": [
    "Icechunk is Earthmover's open-source transactional storage engine. You can think of it as \"version-controlled, multiplayer Zarr\".\n",
    "\n",
    "Icechunk is incredibly powerful, and you can read more about it in the [icechunk documentation](https://icechunk.io/en/latest/), and on the [Earthmover Blog](https://earthmover.io/blog).\n",
    "\n",
    "For today, in this notebook, Icechunk will mainly be behind-the-scences.\n",
    "\n",
    "To access the data in Icechunk via zarr, we need to start an icechunk `Session`, then get the Zarr store object."
   ]
  },
  {
   "cell_type": "code",
   "execution_count": null,
   "id": "Kclp",
   "metadata": {},
   "outputs": [],
   "source": [
    "session = ic_repo.readonly_session(\"main\")\n",
    "icechunk_store = session.store"
   ]
  },
  {
   "cell_type": "markdown",
   "id": "emfo",
   "metadata": {
    "marimo": {
     "config": {
      "hide_code": true
     }
    }
   },
   "source": [
    "Now we have something that xarray can read from!"
   ]
  },
  {
   "cell_type": "code",
   "execution_count": null,
   "id": "Hstk",
   "metadata": {},
   "outputs": [],
   "source": [
    "ds = xr.open_dataset(icechunk_store, group=\"spatial\", engine=\"zarr\", zarr_format=3, chunks={})\n",
    "ds"
   ]
  },
  {
   "cell_type": "markdown",
   "id": "nWHF",
   "metadata": {
    "marimo": {
     "config": {
      "hide_code": true
     }
    }
   },
   "source": [
    "This `xarray.Dataset` represents a lazy view of the data in the `\"spatial\"` group of the zarr data in the `era5-surface-aws` repo."
   ]
  },
  {
   "cell_type": "code",
   "execution_count": null,
   "id": "iLit",
   "metadata": {},
   "outputs": [],
   "source": [
    "print(f\"This repo contains {ds.nbytes / 1e12:.2g} TB of data!\")"
   ]
  },
  {
   "cell_type": "markdown",
   "id": "ZHCJ",
   "metadata": {
    "marimo": {
     "config": {
      "hide_code": true
     }
    }
   },
   "source": [
    "Note that we obviously did not just download 40TB of data in one second - instead we only downloaded the zarr metadata to learn what data we have in the store. This works because Zarr is a [cloud-optimized data format](https://earthmover.io/blog/fundamentals-what-is-cloud-optimized-scientific-data)."
   ]
  },
  {
   "cell_type": "markdown",
   "id": "ROlb",
   "metadata": {
    "marimo": {
     "config": {
      "hide_code": true
     }
    }
   },
   "source": [
    "## Precipitation\n",
    "\n",
    "This dataset has lots of interesting variables, but let's try plotting just one first - precipitation. We can look at the metadata of the `\"cp\"` variable to confirm that that's the one that represents precipitation."
   ]
  },
  {
   "cell_type": "code",
   "execution_count": null,
   "id": "qnkX",
   "metadata": {},
   "outputs": [],
   "source": [
    "ds[\"cp\"].attrs"
   ]
  },
  {
   "cell_type": "markdown",
   "id": "TqIu",
   "metadata": {
    "marimo": {
     "config": {
      "hide_code": true
     }
    }
   },
   "source": [
    "Now as this dataset is global, we should pick a map projection, for which we'll use the cartopy library. Let's also pick a date and time to display the data."
   ]
  },
  {
   "cell_type": "code",
   "execution_count": null,
   "id": "Vxnm",
   "metadata": {},
   "outputs": [],
   "source": [
    "p1 = (\n",
    "    ds[\"cp\"]\n",
    "    .sel(time=\"2024-09-24T20:00:00\", method=\"nearest\")  # subset to the same date and time last year\n",
    "    .plot(\n",
    "        subplot_kws={\n",
    "            \"projection\": ccrs.Orthographic(-73.99, 40.73),  # center over NYC\n",
    "            \"facecolor\": \"gray\"\n",
    "        },\n",
    "        transform=ccrs.PlateCarree(),\n",
    "        robust=True,\n",
    "    )\n",
    ")\n",
    "p1.axes.set_global()\n",
    "p1.axes.coastlines()"
   ]
  },
  {
   "cell_type": "markdown",
   "id": "DnEU",
   "metadata": {
    "marimo": {
     "config": {
      "hide_code": true
     }
    }
   },
   "source": [
    "Voila! What the convective precipitation looked like globally (centered over New York) on this date and time last year."
   ]
  },
  {
   "cell_type": "markdown",
   "id": "ulZA",
   "metadata": {
    "marimo": {
     "config": {
      "hide_code": true
     }
    }
   },
   "source": [
    "Notice that region of high precipitation on the western tip of Cuba - that's [Hurricane Helene](https://en.wikipedia.org/wiki/Hurricane_Helene) developing, which went on to hit the South-Eastern US, causing almost $80 billion in damage."
   ]
  },
  {
   "cell_type": "markdown",
   "id": "ecfG",
   "metadata": {
    "marimo": {
     "config": {
      "hide_code": true
     }
    }
   },
   "source": [
    "## Spatial Analysis: Wet bulb temperature during 2024 Indian heatwave\n",
    "\n",
    "Now let's calculate some quantities related to climate risk.\n",
    "\n",
    "We'll start with the [wet bulb temperature](https://en.wikipedia.org/wiki/Wet-bulb_temperature), which is a measure of heat stress, particularly for human health and safety. Prolonged periods above a wet bulb temperature of 95°F are likely to be fatal to even fit and healthy humans.\n",
    "\n",
    "Let's look at how high the wet bulb temperature got during the [2024 Indian heatwave](https://en.wikipedia.org/wiki/2024_Indian_heat_wave). We'll start by subsetting to a bounding box over India and Bangladesh, and a specific time within the (months-long) heatwave."
   ]
  },
  {
   "cell_type": "code",
   "execution_count": null,
   "id": "Pvdt",
   "metadata": {},
   "outputs": [],
   "source": [
    "india_bbox = {\n",
    "    \"longitude\": slice(67, 99),\n",
    "    \"latitude\": slice(37.5, 5),\n",
    "}\n",
    "\n",
    "ds_india = ds[\n",
    "    [\"sp\", \"t2\", \"d2\"]  # keep only the variables we need to calculate wet bulb temperature\n",
    "].sel(\n",
    "    **india_bbox, \n",
    "    time=\"2024-05-28T10:00:00\",  # subset to a time within the 2024 Indian heatwave\n",
    ").load().pint.quantify()  # use pint-xarray to automatically handle unit conversions\n",
    "\n",
    "ds_india"
   ]
  },
  {
   "cell_type": "markdown",
   "id": "ZBYS",
   "metadata": {
    "marimo": {
     "config": {
      "hide_code": true
     }
    }
   },
   "source": [
    "Calculating wet-bulb temperature isn't trivial (it requires an iterative algorithm), but luckily the [MetPy package](https://unidata.github.io/MetPy/latest/index.html) conveniently provides an xarray-aware [function](https://unidata.github.io/MetPy/latest/api/generated/metpy.calc.wet_bulb_temperature.html#wet-bulb-temperature) for calculating wet bulb temperature for us."
   ]
  },
  {
   "cell_type": "code",
   "execution_count": null,
   "id": "aLJB",
   "metadata": {},
   "outputs": [],
   "source": [
    "from metpy.calc import wet_bulb_temperature"
   ]
  },
  {
   "cell_type": "code",
   "execution_count": null,
   "id": "nHfw",
   "metadata": {},
   "outputs": [],
   "source": [
    "wbt = wet_bulb_temperature(\n",
    "    pressure=ds_india[\"sp\"],\n",
    "    temperature=ds_india[\"t2\"],\n",
    "    dewpoint=ds_india[\"d2\"],\n",
    ").pint.to(pint.Unit(\"degF\"))\n",
    "wbt"
   ]
  },
  {
   "cell_type": "markdown",
   "id": "xXTn",
   "metadata": {
    "marimo": {
     "config": {
      "hide_code": true
     }
    }
   },
   "source": [
    "Note: To understand how on earth all the physical units conversions were just magically handled correctly for us there, [read this blog post about `pint-xarray`](https://xarray.dev/blog/introducing-pint-xarray) that I wrote back in 2022."
   ]
  },
  {
   "cell_type": "code",
   "execution_count": null,
   "id": "AjVT",
   "metadata": {},
   "outputs": [],
   "source": [
    "p = wbt.plot.contourf(\n",
    "    subplot_kws={\"projection\": ccrs.PlateCarree(), \"facecolor\": \"lightgray\"},\n",
    "    transform=ccrs.PlateCarree(),\n",
    ")\n",
    "p.axes.coastlines(resolution='50m')\n",
    "p.axes.add_feature(cfeature.BORDERS)"
   ]
  },
  {
   "cell_type": "markdown",
   "id": "pHFh",
   "metadata": {
    "marimo": {
     "config": {
      "hide_code": true
     }
    }
   },
   "source": [
    "If 95F is lethal, then clearly the temperature and humidity was dangerously high over significant areas, particularly in east India and Bangladesh.\n",
    "\n",
    "Indeed there were a total of 219 deaths reported from the heat wave, and 25,000 others suffered from heatstroke ([source: wikipedia](https://en.wikipedia.org/wiki/2024_Indian_heat_wave))."
   ]
  },
  {
   "cell_type": "markdown",
   "id": "NCOB",
   "metadata": {
    "marimo": {
     "config": {
      "hide_code": true
     }
    }
   },
   "source": [
    "## Temporal Analysis: Heat wave index\n",
    "\n",
    "So far we have analysed large spatial regions at specific times. We also do the opposite - analyse trends at specific locations over long time periods. Let's calculate the number of days each year that New York City experienced a heatwave.\n",
    "\n",
    "For analyses to work efficiently, our queries need to be aligned with our chunking pattern on-disk. We now want to use the orthogonal query pattern, so let's open a slightly different version of the ERA5 dataset, this time with spatial instead of temporal chunking."
   ]
  },
  {
   "cell_type": "code",
   "execution_count": null,
   "id": "aqbW",
   "metadata": {},
   "outputs": [],
   "source": [
    "ds_temporal = xr.open_dataset(session.store, group=\"temporal\", engine=\"zarr\", zarr_format=3, chunks={})\n",
    "ds_temporal"
   ]
  },
  {
   "cell_type": "markdown",
   "id": "TRpd",
   "metadata": {
    "marimo": {
     "config": {
      "hide_code": true
     }
    }
   },
   "source": [
    "The official [NYC Hazard Mitigation Plan](https://nychazardmitigation.com/documentation/hazard-profiles/extreme-heat/) defines heatwaves in terms of the National Weather Service's heat index chart. This quantity is a function of air temperature and relative humidity.\n",
    "\n",
    "<figure>\n",
    "  <img src=\"https://nychazardmitigation.com/wp-content/uploads/2023/01/2024.08.05_12_Heat-Index.png)\" alt=\"Alt text\" width=\"600\">\n",
    "  <figcaption>Heat index table. Source: National Weather Service.</figcaption>\n",
    "</figure>"
   ]
  },
  {
   "cell_type": "markdown",
   "id": "TXez",
   "metadata": {
    "marimo": {
     "config": {
      "hide_code": true
     }
    }
   },
   "source": [
    "Again we will need both the temperature and the dewpoint temperature."
   ]
  },
  {
   "cell_type": "code",
   "execution_count": null,
   "id": "dNNg",
   "metadata": {},
   "outputs": [],
   "source": [
    "nyc_coords = {\"latitude\": 41, \"longitude\": 286}\n",
    "\n",
    "ds_nyc = ds_temporal[['t2', 'd2']].sel(**nyc_coords, method=\"nearest\").load().pint.quantify()\n",
    "ds_nyc"
   ]
  },
  {
   "cell_type": "markdown",
   "id": "yCnT",
   "metadata": {
    "marimo": {
     "config": {
      "hide_code": true
     }
    }
   },
   "source": [
    "To calculate this we can use metpy again, but first we need to find the relative humidity."
   ]
  },
  {
   "cell_type": "code",
   "execution_count": null,
   "id": "wlCL",
   "metadata": {},
   "outputs": [],
   "source": [
    "from metpy.calc import relative_humidity_from_dewpoint\n",
    "from metpy.calc import heat_index"
   ]
  },
  {
   "cell_type": "code",
   "execution_count": null,
   "id": "kqZH",
   "metadata": {},
   "outputs": [],
   "source": [
    "rel_humid = relative_humidity_from_dewpoint(\n",
    "    temperature=ds_nyc['t2'],\n",
    "    dewpoint=ds_nyc['d2'],\n",
    ")"
   ]
  },
  {
   "cell_type": "code",
   "execution_count": null,
   "id": "wAgl",
   "metadata": {},
   "outputs": [],
   "source": [
    "heat_ind = heat_index(\n",
    "    temperature=ds_nyc['t2'],\n",
    "    relative_humidity=rel_humid,\n",
    "    mask_undefined=False,\n",
    ").pint.to(units.degF)"
   ]
  },
  {
   "cell_type": "markdown",
   "id": "rEll",
   "metadata": {
    "marimo": {
     "config": {
      "hide_code": true
     }
    }
   },
   "source": [
    "Only the maximum heat index reached on a given day matters for whether or not that day is considered part of a heatwave, so let's calculate the daily maximum heat index over all time."
   ]
  },
  {
   "cell_type": "code",
   "execution_count": null,
   "id": "dGlV",
   "metadata": {},
   "outputs": [],
   "source": [
    "heat_ind_daily_max = heat_ind.coarsen(time=24).max()\n",
    "heat_ind_daily_max.plot()"
   ]
  },
  {
   "cell_type": "markdown",
   "id": "SdmI",
   "metadata": {
    "marimo": {
     "config": {
      "hide_code": true
     }
    }
   },
   "source": [
    "That looks sensible - it has the right magnitude, the right units, and shows an annual cycle."
   ]
  },
  {
   "cell_type": "markdown",
   "id": "lgWD",
   "metadata": {
    "marimo": {
     "config": {
      "hide_code": true
     }
    }
   },
   "source": [
    "NYC Emergency Management issues a \"heat advisory\" if the heat index is greater than 95°F for two consecutive days.\n",
    "\n",
    "There is another xarray-based open-source package called [`xclim`](https://xclim.readthedocs.io/en/stable/index.html) which has a [convenient function](https://xclim.readthedocs.io/en/stable/indices.html#xclim.indices.heat_wave_index) for calculating the number of days in a year that match this criterion."
   ]
  },
  {
   "cell_type": "code",
   "execution_count": null,
   "id": "yOPj",
   "metadata": {},
   "outputs": [],
   "source": [
    "from xclim.indices import heat_wave_index"
   ]
  },
  {
   "cell_type": "code",
   "execution_count": null,
   "id": "fwwy",
   "metadata": {},
   "outputs": [],
   "source": [
    "heat_wave_index(\n",
    "    heat_ind_daily_max.pint.dequantify(), \n",
    "    thresh='95.0 degF', \n",
    "    window=2,\n",
    ").plot()"
   ]
  },
  {
   "cell_type": "markdown",
   "id": "LJZf",
   "metadata": {
    "marimo": {
     "config": {
      "hide_code": true
     }
    }
   },
   "source": [
    "Looks like the average number of heatwave days per year in NYC is ~10, and has been increasing noticeably over the last decade or so."
   ]
  },
  {
   "cell_type": "markdown",
   "id": "urSm",
   "metadata": {
    "marimo": {
     "config": {
      "hide_code": true
     }
    }
   },
   "source": [
    "From [nychazardmitigation.com](https://nychazardmitigation.com/documentation/hazard-profiles/extreme-heat/#probability:~:text=The%202024%20New%20York%20City%20Panel%20on%20Climate%20Change%20(NPCC)%20report%20(NPCC4)%20estimated%20that%20from%201981%20to%202010%2C%20New%20York%20City%20had%20an%20average%20of%2017%20days%20per%20year%20with%20maximum%20temperatures%20at%20or%20above%2090%C2%B0F%20and%20had%20heat%20waves%20lasting%20an%20average%20of%20four%20days):\n",
    "\n",
    "> The 2024 New York City Panel on Climate Change (NPCC) report (NPCC4) estimated that from 1981 to 2010, New York City had an average of 17 days per year with maximum temperatures at or above 90°F and had heat waves lasting an average of four days.\n",
    "\n",
    "So our quick estimate seems consistent with the official analysis."
   ]
  },
  {
   "cell_type": "markdown",
   "id": "jxvo",
   "metadata": {
    "marimo": {
     "config": {
      "hide_code": true
     }
    }
   },
   "source": [
    "## Conclusion\n",
    "\n",
    "We have:\n",
    "\n",
    "- Viewed and accessed a subset of 40TB of ERA5 data in arraylake,\n",
    "- Plotted quantities of interest globally and regionally at specific times,\n",
    "- Computed quantities of interest locally over the whole time history.\n",
    "\n",
    "All of this using open-source packages, accessing Earthmover's public ERA5 Icechunk dataset in the cloud, from your laptop!"
   ]
  }
 ],
 "metadata": {},
 "nbformat": 4,
 "nbformat_minor": 5
}
